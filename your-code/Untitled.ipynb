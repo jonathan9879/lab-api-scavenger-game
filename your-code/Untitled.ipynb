{
 "cells": [
  {
   "cell_type": "code",
   "execution_count": 55,
   "metadata": {},
   "outputs": [
    {
     "name": "stdout",
     "output_type": "stream",
     "text": [
      "{'Jupyter Notebook': 1134241, 'HTML': 498316, 'Python': 8691}\n",
      "{'Jupyter Notebook': 1929156, 'HTML': 498316, 'Python': 25471}\n",
      "{'HTML': 498316, 'Jupyter Notebook': 84452, 'Python': 16545}\n",
      "{'Jupyter Notebook': 2227047, 'HTML': 498316, 'Python': 25471, 'Shell': 1051}\n",
      "{'Jupyter Notebook': 2258595, 'HTML': 498316, 'Python': 27054}\n",
      "{'Python': 10988}\n",
      "{'Jupyter Notebook': 2121446, 'HTML': 498316, 'Python': 30276}\n",
      "{'Jupyter Notebook': 1929156, 'HTML': 498316, 'Python': 36608}\n",
      "{'Jupyter Notebook': 2342270, 'HTML': 498316, 'Python': 30630}\n",
      "{'Jupyter Notebook': 46676, 'Python': 12138}\n",
      "{'Jupyter Notebook': 1977603, 'HTML': 498316, 'Python': 32084}\n",
      "{'Jupyter Notebook': 2030706, 'HTML': 498316, 'Python': 26825}\n",
      "{'Jupyter Notebook': 1928145, 'HTML': 498316, 'Python': 27910}\n",
      "0\n"
     ]
    }
   ],
   "source": [
    "from github import Github\n",
    "g = Github(\"155e21a110c01e1aba5d6ccfe864c477cd0ecd07\")\n",
    "\n",
    "#lab - Part 1\n",
    "repo = g.get_repo(\"ironhack-datalabs/madrid-oct-2018\")\n",
    "\n",
    "forks = repo.get_forks()\n",
    "\n",
    "for fork in forks:\n",
    "    print(fork.get_languages())\n",
    "    \n",
    "#lab - Part 2\n",
    "from datetime import datetime\n",
    "\n",
    "last_week = datetime(2019, 3, 8)\n",
    "\n",
    "print(repo.get_commits(since=last_week).totalCount)\n",
    "\n"
   ]
  },
  {
   "cell_type": "code",
   "execution_count": 84,
   "metadata": {},
   "outputs": [
    {
     "data": {
      "text/plain": [
       "ContentFile(path=\".gitignore\")"
      ]
     },
     "execution_count": 84,
     "metadata": {},
     "output_type": "execute_result"
    }
   ],
   "source": [
    "#lab - Part 3\n",
    "repo_jokes = g.get_repo(\"ironhack-datalabs/scavenger\")\n",
    "\n",
    "repo_jokes_paths = repo_jokes.get_contents(path='')\n",
    "\n",
    "repo_jokes_paths_paths = []\n",
    "for contentfile in repo_jokes_paths:\n",
    "    repo_jokes_paths_paths.append(repo_jokes.get_contents(path=f'{contentfile.path}'))\n",
    "#    for i in range(len(repo_jokes_paths_paths)):\n",
    "#        repo_jokes_paths_paths[i]\n",
    "#repo_jokes_paths[i].path"
   ]
  },
  {
   "cell_type": "code",
   "execution_count": 93,
   "metadata": {},
   "outputs": [
    {
     "name": "stdout",
     "output_type": "stream",
     "text": [
      "ContentFile(path=\"15024/.0006.scavengerhunt\")\n"
     ]
    }
   ],
   "source": [
    "print(repo_jokes_paths_paths[1][0])"
   ]
  },
  {
   "cell_type": "code",
   "execution_count": 103,
   "metadata": {},
   "outputs": [
    {
     "name": "stdout",
     "output_type": "stream",
     "text": [
      "['15024/.0006.scavengerhunt', '15534/.0008.scavengerhunt', '15534/.0012.scavengerhunt', '17020/.0007.scavengerhunt', '30351/.0021.scavengerhunt', '40303/.0022.scavengerhunt', '44639/.0005.scavengerhunt', '45525/.0018.scavengerhunt', '47222/.0016.scavengerhunt', '47222/.0024.scavengerhunt', '47830/.0010.scavengerhunt', '49418/.0014.scavengerhunt', '50896/.0011.scavengerhunt', '55417/.0023.scavengerhunt', '55685/.0020.scavengerhunt', '60224/.0003.scavengerhunt', '68848/.0004.scavengerhunt', '70751/.0019.scavengerhunt', '70985/.0017.scavengerhunt', '88596/.0002.scavengerhunt', '89338/.0013.scavengerhunt', '91701/.0015.scavengerhunt', '97881/.0009.scavengerhunt', '98750/.0001.scavengerhunt']\n"
     ]
    }
   ],
   "source": [
    "from collections import OrderedDict\n",
    "scavengerhunt_list = []\n",
    "\n",
    "for i in range(1,len(repo_jokes_paths_paths)):\n",
    "    for p in repo_jokes_paths_paths[i]:\n",
    "        if p.path.endswith('scavengerhunt'):\n",
    "            scavengerhunt_list.append(p.path)\n",
    "\n",
    "print(scavengerhunt_list)\n",
    "\n",
    "dic = {}\n",
    "for p in scavengerhunt_list:\n",
    "    dic[p[7:12]] = p"
   ]
  },
  {
   "cell_type": "code",
   "execution_count": 105,
   "metadata": {},
   "outputs": [
    {
     "name": "stdout",
     "output_type": "stream",
     "text": [
      "odict_keys(['0001.', '0002.', '0003.', '0004.', '0005.', '0006.', '0007.', '0008.', '0009.', '0010.', '0011.', '0012.', '0013.', '0014.', '0015.', '0016.', '0017.', '0018.', '0019.', '0020.', '0021.', '0022.', '0023.', '0024.'])\n"
     ]
    }
   ],
   "source": [
    "dic_ordered = OrderedDict(sorted(dic.items()))\n",
    "print(dic_ordered.keys())"
   ]
  },
  {
   "cell_type": "code",
   "execution_count": 112,
   "metadata": {},
   "outputs": [
    {
     "name": "stdout",
     "output_type": "stream",
     "text": [
      "base64\n",
      "base64\n",
      "base64\n",
      "base64\n",
      "base64\n",
      "base64\n",
      "base64\n",
      "base64\n",
      "base64\n",
      "base64\n",
      "base64\n",
      "base64\n",
      "base64\n",
      "base64\n",
      "base64\n",
      "base64\n",
      "base64\n",
      "base64\n",
      "base64\n",
      "base64\n",
      "base64\n",
      "base64\n",
      "base64\n",
      "base64\n"
     ]
    }
   ],
   "source": [
    "\n",
    "for key, value in dic_ordered.items():\n",
    "    print(repo_jokes.get_contents(path=value).encoding)"
   ]
  },
  {
   "cell_type": "code",
   "execution_count": 128,
   "metadata": {},
   "outputs": [
    {
     "name": "stdout",
     "output_type": "stream",
     "text": [
      "In\n",
      "data\n",
      "science,\n",
      "80\n",
      "percent\n",
      "of\n",
      "time\n",
      "spent\n",
      "is\n",
      "preparing\n",
      "data,\n",
      "20\n",
      "percent\n",
      "of\n",
      "time\n",
      "is\n",
      "spent\n",
      "complaining\n",
      "about\n",
      "the\n",
      "need\n",
      "to\n",
      "prepare\n",
      "data.\n"
     ]
    }
   ],
   "source": [
    "import base64\n",
    "import regex as re\n",
    "\n",
    "for key, value in dic_ordered.items():\n",
    "    s = str(base64.b64decode(repo_jokes.get_contents(path=value).content))\n",
    "    #print(re.match('b\\'.*$', s).group())\n",
    "    s = s[:len(s)-3]\n",
    "    print(s[2:])"
   ]
  },
  {
   "cell_type": "code",
   "execution_count": null,
   "metadata": {},
   "outputs": [],
   "source": []
  }
 ],
 "metadata": {
  "kernelspec": {
   "display_name": "Python 3",
   "language": "python",
   "name": "python3"
  },
  "language_info": {
   "codemirror_mode": {
    "name": "ipython",
    "version": 3
   },
   "file_extension": ".py",
   "mimetype": "text/x-python",
   "name": "python",
   "nbconvert_exporter": "python",
   "pygments_lexer": "ipython3",
   "version": "3.7.2"
  }
 },
 "nbformat": 4,
 "nbformat_minor": 2
}
